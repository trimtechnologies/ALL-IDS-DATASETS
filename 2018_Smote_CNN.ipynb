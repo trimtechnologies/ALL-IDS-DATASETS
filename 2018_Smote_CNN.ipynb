{
 "cells": [
  {
   "cell_type": "code",
   "execution_count": 6,
   "id": "bd0fdcb2",
   "metadata": {},
   "outputs": [],
   "source": [
    "import numpy as np\n",
    "import pandas as pd\n",
    "import warnings\n",
    "#warnings.filterwarnings(\"ignore\", category=DeprecationWarning)\n",
    "warnings.simplefilter(\"ignore\", UserWarning)\n",
    "\n",
    "from sklearn import metrics\n",
    "from sklearn.model_selection import train_test_split\n",
    "from sklearn.ensemble import RandomForestClassifier\n",
    "#from sklearn.preprocessing import MinMaxScaler\n",
    "from sklearn.preprocessing import MaxAbsScaler\n",
    "from sklearn.preprocessing import LabelEncoder\n",
    "from sklearn.preprocessing import OneHotEncoder\n",
    "from sklearn.preprocessing import normalize\n",
    "\n",
    "import collections\n",
    "from imblearn.over_sampling import SMOTE\n",
    "from imblearn.under_sampling import RandomUnderSampler\n",
    "from imblearn.over_sampling import BorderlineSMOTE \n",
    "from imblearn.over_sampling import ADASYN\n",
    "\n",
    "from sklearn.model_selection import train_test_split\n",
    "\n",
    "from sklearn import tree\n",
    "\n",
    "from sklearn.metrics import precision_recall_fscore_support\n",
    "\n",
    "from sklearn.ensemble import RandomForestClassifier\n",
    "\n",
    "from sklearn.ensemble import AdaBoostClassifier\n",
    "import tensorflow as tf\n",
    "#import torch\n",
    "#import torch.nn as nn\n",
    "#import torch.nn.functional as F\n",
    "#from pytorch_tabnet.tab_model import TabNetClassifier\n",
    "from tqdm.notebook import tqdm"
   ]
  },
  {
   "cell_type": "code",
   "execution_count": 7,
   "id": "81db30b9",
   "metadata": {},
   "outputs": [
    {
     "data": {
      "text/plain": [
       "(16232943, 79)"
      ]
     },
     "execution_count": 7,
     "metadata": {},
     "output_type": "execute_result"
    }
   ],
   "source": [
    "data = './Dataset/formatted_dataset.csv'\n",
    "read = pd.read_csv(data)\n",
    "df = read.iloc[:,:]\n",
    "df.shape"
   ]
  },
  {
   "cell_type": "code",
   "execution_count": null,
   "id": "375b649c",
   "metadata": {},
   "outputs": [],
   "source": [
    "#df.info()"
   ]
  },
  {
   "cell_type": "code",
   "execution_count": 8,
   "id": "d9a1660e",
   "metadata": {},
   "outputs": [
    {
     "data": {
      "text/plain": [
       "Index(['Dst Port', 'Protocol', 'Timestamp', 'Flow Duration', 'Tot Fwd Pkts',\n",
       "       'Tot Bwd Pkts', 'TotLen Fwd Pkts', 'TotLen Bwd Pkts', 'Fwd Pkt Len Max',\n",
       "       'Fwd Pkt Len Min', 'Fwd Pkt Len Mean', 'Fwd Pkt Len Std',\n",
       "       'Bwd Pkt Len Max', 'Bwd Pkt Len Min', 'Bwd Pkt Len Mean',\n",
       "       'Bwd Pkt Len Std', 'Flow Byts/s', 'Flow Pkts/s', 'Flow IAT Mean',\n",
       "       'Flow IAT Std', 'Flow IAT Max', 'Flow IAT Min', 'Fwd IAT Tot',\n",
       "       'Fwd IAT Mean', 'Fwd IAT Std', 'Fwd IAT Max', 'Fwd IAT Min',\n",
       "       'Bwd IAT Tot', 'Bwd IAT Mean', 'Bwd IAT Std', 'Bwd IAT Max',\n",
       "       'Bwd IAT Min', 'Fwd PSH Flags', 'Bwd PSH Flags', 'Fwd URG Flags',\n",
       "       'Bwd URG Flags', 'Fwd Header Len', 'Bwd Header Len', 'Fwd Pkts/s',\n",
       "       'Bwd Pkts/s', 'Pkt Len Min', 'Pkt Len Max', 'Pkt Len Mean',\n",
       "       'Pkt Len Std', 'Pkt Len Var', 'FIN Flag Cnt', 'SYN Flag Cnt',\n",
       "       'RST Flag Cnt', 'PSH Flag Cnt', 'ACK Flag Cnt', 'URG Flag Cnt',\n",
       "       'CWE Flag Count', 'ECE Flag Cnt', 'Down/Up Ratio', 'Pkt Size Avg',\n",
       "       'Fwd Seg Size Avg', 'Bwd Seg Size Avg', 'Fwd Byts/b Avg',\n",
       "       'Fwd Pkts/b Avg', 'Fwd Blk Rate Avg', 'Bwd Byts/b Avg',\n",
       "       'Bwd Blk Rate Avg', 'Subflow Fwd Pkts', 'Subflow Fwd Byts',\n",
       "       'Subflow Bwd Pkts', 'Subflow Bwd Byts', 'Init Fwd Win Byts',\n",
       "       'Init Bwd Win Byts', 'Fwd Act Data Pkts', 'Fwd Seg Size Min',\n",
       "       'Active Mean', 'Active Std', 'Active Max', 'Active Min', 'Idle Mean',\n",
       "       'Idle Std', 'Idle Max', 'Idle Min', 'Label'],\n",
       "      dtype='object')"
      ]
     },
     "execution_count": 8,
     "metadata": {},
     "output_type": "execute_result"
    }
   ],
   "source": [
    "df.columns"
   ]
  },
  {
   "cell_type": "code",
   "execution_count": 9,
   "id": "c549cdc1",
   "metadata": {},
   "outputs": [
    {
     "name": "stdout",
     "output_type": "stream",
     "text": [
      "          Dst Port  Protocol  Timestamp  Flow Duration  Tot Fwd Pkts  \\\n",
      "0                0         0      15905      112641719             3   \n",
      "1                0         0      16074      112641466             3   \n",
      "2                0         0      16243      112638623             3   \n",
      "3               22         6      16457        6453966            15   \n",
      "4               22         6      16467        8804066            14   \n",
      "...            ...       ...        ...            ...           ...   \n",
      "16232938      3389         6       4098        3982183            14   \n",
      "16232939      3389         6       4102        3802316            14   \n",
      "16232940      3389         6       4105        4004239            14   \n",
      "16232941      3389         6       4109        3998435            14   \n",
      "16232942      3389         6       4113        3972651            14   \n",
      "\n",
      "          Tot Bwd Pkts  TotLen Fwd Pkts  TotLen Bwd Pkts  Fwd Pkt Len Max  \\\n",
      "0                    0              0.0              0.0              0.0   \n",
      "1                    0              0.0              0.0              0.0   \n",
      "2                    0              0.0              0.0              0.0   \n",
      "3                   10           1239.0           2273.0            744.0   \n",
      "4                   11           1143.0           2209.0            744.0   \n",
      "...                ...              ...              ...              ...   \n",
      "16232938             8           1442.0           1731.0            725.0   \n",
      "16232939             8           1440.0           1731.0            725.0   \n",
      "16232940             8           1459.0           1731.0            741.0   \n",
      "16232941             8           1459.0           1731.0            741.0   \n",
      "16232942             8           1439.0           1731.0            725.0   \n",
      "\n",
      "          Fwd Pkt Len Min  ...  Fwd Act Data Pkts  Fwd Seg Size Min  \\\n",
      "0                     0.0  ...                  0                 0   \n",
      "1                     0.0  ...                  0                 0   \n",
      "2                     0.0  ...                  0                 0   \n",
      "3                     0.0  ...                  6                32   \n",
      "4                     0.0  ...                  6                32   \n",
      "...                   ...  ...                ...               ...   \n",
      "16232938              0.0  ...                  7                20   \n",
      "16232939              0.0  ...                  7                20   \n",
      "16232940              0.0  ...                  7                20   \n",
      "16232941              0.0  ...                  7                20   \n",
      "16232942              0.0  ...                  7                20   \n",
      "\n",
      "          Active Mean  Active Std  Active Max  Active Min   Idle Mean  \\\n",
      "0                 0.0         0.0         0.0         0.0  56320859.5   \n",
      "1                 0.0         0.0         0.0         0.0  56320733.0   \n",
      "2                 0.0         0.0         0.0         0.0  56319311.5   \n",
      "3                 0.0         0.0         0.0         0.0         0.0   \n",
      "4                 0.0         0.0         0.0         0.0         0.0   \n",
      "...               ...         ...         ...         ...         ...   \n",
      "16232938          0.0         0.0         0.0         0.0         0.0   \n",
      "16232939          0.0         0.0         0.0         0.0         0.0   \n",
      "16232940          0.0         0.0         0.0         0.0         0.0   \n",
      "16232941          0.0         0.0         0.0         0.0         0.0   \n",
      "16232942          0.0         0.0         0.0         0.0         0.0   \n",
      "\n",
      "            Idle Std    Idle Max    Idle Min  \n",
      "0         139.300036  56320958.0  56320761.0  \n",
      "1         114.551299  56320814.0  56320652.0  \n",
      "2         301.934596  56319525.0  56319098.0  \n",
      "3           0.000000         0.0         0.0  \n",
      "4           0.000000         0.0         0.0  \n",
      "...              ...         ...         ...  \n",
      "16232938    0.000000         0.0         0.0  \n",
      "16232939    0.000000         0.0         0.0  \n",
      "16232940    0.000000         0.0         0.0  \n",
      "16232941    0.000000         0.0         0.0  \n",
      "16232942    0.000000         0.0         0.0  \n",
      "\n",
      "[16232943 rows x 78 columns]\n"
     ]
    },
    {
     "ename": "NameError",
     "evalue": "name 'MinMaxScaler' is not defined",
     "output_type": "error",
     "traceback": [
      "\u001b[1;31m---------------------------------------------------------------------------\u001b[0m",
      "\u001b[1;31mNameError\u001b[0m                                 Traceback (most recent call last)",
      "\u001b[1;32m~\\AppData\\Local\\Temp/ipykernel_5696/47808974.py\u001b[0m in \u001b[0;36m<module>\u001b[1;34m\u001b[0m\n\u001b[0;32m      1\u001b[0m \u001b[0mprint\u001b[0m\u001b[1;33m(\u001b[0m\u001b[0mdf\u001b[0m\u001b[1;33m.\u001b[0m\u001b[0miloc\u001b[0m\u001b[1;33m[\u001b[0m\u001b[1;33m:\u001b[0m\u001b[1;33m,\u001b[0m\u001b[1;33m:\u001b[0m\u001b[1;36m78\u001b[0m\u001b[1;33m]\u001b[0m\u001b[1;33m)\u001b[0m\u001b[1;33m\u001b[0m\u001b[1;33m\u001b[0m\u001b[0m\n\u001b[0;32m      2\u001b[0m \u001b[1;33m\u001b[0m\u001b[0m\n\u001b[1;32m----> 3\u001b[1;33m \u001b[0mscaler\u001b[0m \u001b[1;33m=\u001b[0m \u001b[0mMinMaxScaler\u001b[0m\u001b[1;33m(\u001b[0m\u001b[1;33m)\u001b[0m\u001b[1;33m\u001b[0m\u001b[1;33m\u001b[0m\u001b[0m\n\u001b[0m",
      "\u001b[1;31mNameError\u001b[0m: name 'MinMaxScaler' is not defined"
     ]
    }
   ],
   "source": [
    "print(df.iloc[:,:78])\n",
    "\n",
    "scaler = MinMaxScaler()"
   ]
  },
  {
   "cell_type": "code",
   "execution_count": 10,
   "id": "2d8d68ea",
   "metadata": {},
   "outputs": [
    {
     "name": "stdout",
     "output_type": "stream",
     "text": [
      "(16232943, 78)\n",
      "(16232943,)\n"
     ]
    }
   ],
   "source": [
    "scaler = MaxAbsScaler()\n",
    "\n",
    "X = scaler.fit_transform(df[['Dst Port', 'Protocol', 'Timestamp', 'Flow Duration', 'Tot Fwd Pkts',\n",
    "       'Tot Bwd Pkts', 'TotLen Fwd Pkts', 'TotLen Bwd Pkts', 'Fwd Pkt Len Max',\n",
    "       'Fwd Pkt Len Min', 'Fwd Pkt Len Mean', 'Fwd Pkt Len Std',\n",
    "       'Bwd Pkt Len Max', 'Bwd Pkt Len Min', 'Bwd Pkt Len Mean',\n",
    "       'Bwd Pkt Len Std', 'Flow Byts/s', 'Flow Pkts/s', 'Flow IAT Mean',\n",
    "       'Flow IAT Std', 'Flow IAT Max', 'Flow IAT Min', 'Fwd IAT Tot',\n",
    "       'Fwd IAT Mean', 'Fwd IAT Std', 'Fwd IAT Max', 'Fwd IAT Min',\n",
    "       'Bwd IAT Tot', 'Bwd IAT Mean', 'Bwd IAT Std', 'Bwd IAT Max',\n",
    "       'Bwd IAT Min', 'Fwd PSH Flags', 'Bwd PSH Flags', 'Fwd URG Flags',\n",
    "       'Bwd URG Flags', 'Fwd Header Len', 'Bwd Header Len', 'Fwd Pkts/s',\n",
    "       'Bwd Pkts/s', 'Pkt Len Min', 'Pkt Len Max', 'Pkt Len Mean',\n",
    "       'Pkt Len Std', 'Pkt Len Var', 'FIN Flag Cnt', 'SYN Flag Cnt',\n",
    "       'RST Flag Cnt', 'PSH Flag Cnt', 'ACK Flag Cnt', 'URG Flag Cnt',\n",
    "       'CWE Flag Count', 'ECE Flag Cnt', 'Down/Up Ratio', 'Pkt Size Avg',\n",
    "       'Fwd Seg Size Avg', 'Bwd Seg Size Avg', 'Fwd Byts/b Avg',\n",
    "       'Fwd Pkts/b Avg', 'Fwd Blk Rate Avg', 'Bwd Byts/b Avg',\n",
    "       'Bwd Blk Rate Avg', 'Subflow Fwd Pkts', 'Subflow Fwd Byts',\n",
    "       'Subflow Bwd Pkts', 'Subflow Bwd Byts', 'Init Fwd Win Byts',\n",
    "       'Init Bwd Win Byts', 'Fwd Act Data Pkts', 'Fwd Seg Size Min',\n",
    "       'Active Mean', 'Active Std', 'Active Max', 'Active Min', 'Idle Mean',\n",
    "       'Idle Std', 'Idle Max', 'Idle Min']])\n",
    "\n",
    "#X =  normalize(df.iloc[:,:76])\n",
    "print(X.shape)\n",
    "y = df['Label']\n",
    "print(y.shape)\n",
    "\n",
    "y = LabelEncoder().fit_transform(y)"
   ]
  },
  {
   "cell_type": "code",
   "execution_count": 11,
   "id": "814203c7",
   "metadata": {},
   "outputs": [
    {
     "name": "stdout",
     "output_type": "stream",
     "text": [
      "Counter({0: 13484708, 3: 1263933, 4: 654300, 2: 380949, 1: 286191, 5: 161934, 6: 928})\n"
     ]
    }
   ],
   "source": [
    "print(collections.Counter(y))"
   ]
  },
  {
   "cell_type": "code",
   "execution_count": 12,
   "id": "b3ad3d51",
   "metadata": {},
   "outputs": [],
   "source": [
    "strategy = {0: 13484708, 3: 1263933, 4: 654300, 2: 654300, 1: 654300, 5: 654300, 6: 654300}\n",
    "#{1: 2359289, 0: 1132298}\n",
    "#{1: 1651502, 0: 792608}\n",
    "smt = SMOTE(sampling_strategy=strategy, k_neighbors=5, random_state=42)\n",
    "X, y = smt.fit_resample(X, y)\n",
    "\n",
    "#strategy_tl = {0: 654300, 3: 654300, 4: 654300, 2: 654300, 1: 654300, 5: 654300, 6: 654300}\n",
    "rus = RandomUnderSampler(sampling_strategy='not minority',random_state=42)\n",
    "X, y = rus.fit_resample(X, y)"
   ]
  },
  {
   "cell_type": "code",
   "execution_count": 13,
   "id": "c5df0cb3",
   "metadata": {},
   "outputs": [
    {
     "name": "stdout",
     "output_type": "stream",
     "text": [
      "Counter({0: 654300, 1: 654300, 2: 654300, 3: 654300, 4: 654300, 5: 654300, 6: 654300})\n"
     ]
    }
   ],
   "source": [
    "print(collections.Counter(y))"
   ]
  },
  {
   "cell_type": "code",
   "execution_count": 14,
   "id": "c6a36c02",
   "metadata": {},
   "outputs": [
    {
     "name": "stdout",
     "output_type": "stream",
     "text": [
      "(3206070, 7)\n",
      "(687015, 7)\n",
      "(687015, 7)\n"
     ]
    }
   ],
   "source": [
    "X_train, X_test, y_train, y_test = train_test_split(X, y, train_size = 0.7, random_state=42, stratify=y)\n",
    "X_test, X_val, y_test, y_val = train_test_split(X_test, y_test, train_size = 0.5, random_state=42, stratify=y_test)\n",
    "\n",
    "a = np.array(y_train)\n",
    "b = np.zeros((a.size, a.max()+1))\n",
    "b[np.arange(a.size),a] = 1\n",
    "y_train = b\n",
    "print(y_train.shape)\n",
    "\n",
    "a = np.array(y_test)\n",
    "b = np.zeros((a.size, a.max()+1))\n",
    "b[np.arange(a.size),a] = 1\n",
    "y_test = b\n",
    "print(y_test.shape)\n",
    "\n",
    "a = np.array(y_val)\n",
    "b = np.zeros((a.size, a.max()+1))\n",
    "b[np.arange(a.size),a] = 1\n",
    "y_val = b\n",
    "print(y_val.shape)"
   ]
  },
  {
   "cell_type": "code",
   "execution_count": 15,
   "id": "0434401c",
   "metadata": {},
   "outputs": [
    {
     "name": "stdout",
     "output_type": "stream",
     "text": [
      "(3206070, 78, 1)\n",
      "(687015, 78, 1)\n",
      "(687015, 78, 1)\n"
     ]
    }
   ],
   "source": [
    "# reshape the data for CNN\n",
    "X_train = X_train.reshape(len(X_train), X_train.shape[1], 1)\n",
    "X_test = X_test.reshape(len(X_test), X_test.shape[1], 1)\n",
    "X_val = X_val.reshape(len(X_val),  X_val.shape[1], 1)\n",
    "\n",
    "print(X_train.shape)\n",
    "print(X_test.shape)\n",
    "print(X_val.shape)"
   ]
  },
  {
   "cell_type": "code",
   "execution_count": 20,
   "id": "14791c92",
   "metadata": {},
   "outputs": [],
   "source": [
    "from keras.backend import reshape\n",
    "from keras.models import Sequential\n",
    "from keras.layers import Conv2D, Conv1D, MaxPooling2D, MaxPooling1D, Flatten, BatchNormalization, Dense, Dropout\n",
    "from keras.wrappers.scikit_learn import KerasClassifier\n",
    "\n",
    "model = Sequential()\n",
    "model.add(Conv1D(filters=64, kernel_size=3, activation='relu',input_shape=(78,1)))\n",
    "model.add(Conv1D(filters=64, kernel_size=3, activation='relu'))\n",
    "model.add(Dropout(0.5))\n",
    "model.add(MaxPooling1D(pool_size=2))\n",
    "model.add(Flatten())\n",
    "model.add(Dense(100, activation='relu'))\n",
    "model.add(Dense(7, activation='softmax'))\n",
    "\n",
    "model.compile(loss='categorical_crossentropy', optimizer='adam', metrics=['accuracy'])\n",
    "\n",
    "his = model.fit(X_train, y_train, validation_data=(X_val, y_val), epochs=10, verbose=0)\n",
    "\n",
    "#KerasClassifier(build_fn=model, epochs=200, batch_size=5, verbose=0)\n"
   ]
  },
  {
   "cell_type": "code",
   "execution_count": 21,
   "id": "e46b97c2",
   "metadata": {},
   "outputs": [
    {
     "name": "stdout",
     "output_type": "stream",
     "text": [
      "21470/21470 [==============================] - 120s 6ms/step - loss: 0.0679 - accuracy: 0.9695\n",
      "[0.06787901371717453, 0.9695261120796204, 0.06787901371717453, 0.9695261120796204, 0.06787901371717453, 0.9695261120796204, 0.06787901371717453, 0.9695261120796204, 0.06787901371717453, 0.9695261120796204, 0.06787901371717453, 0.9695261120796204, 0.06787901371717453, 0.9695261120796204, 0.06787901371717453, 0.9695261120796204, 0.06787901371717453, 0.9695261120796204, 0.06787901371717453, 0.9695261120796204, 0.06787901371717453, 0.9695261120796204, 0.06787901371717453, 0.9695261120796204, 0.06787901371717453, 0.9695261120796204, 0.06787901371717453, 0.9695261120796204, 0.06787901371717453, 0.9695261120796204, 0.06787901371717453, 0.9695261120796204, 0.06787901371717453, 0.9695261120796204, 0.06787901371717453, 0.9695261120796204, 0.06787901371717453, 0.9695261120796204, 0.06787901371717453, 0.9695261120796204, 0.06787901371717453, 0.9695261120796204, 0.06787901371717453, 0.9695261120796204, 0.06787901371717453, 0.9695261120796204, 0.06787901371717453, 0.9695261120796204, 0.06787901371717453, 0.9695261120796204, 0.06787901371717453, 0.9695261120796204, 0.06787901371717453, 0.9695261120796204, 0.06787901371717453, 0.9695261120796204, 0.06787901371717453, 0.9695261120796204, 0.06787901371717453, 0.9695261120796204, 0.06787901371717453, 0.9695261120796204, 0.06787901371717453, 0.9695261120796204, 0.06787901371717453, 0.9695261120796204, 0.06787901371717453, 0.9695261120796204, 0.06787901371717453, 0.9695261120796204, 0.06787901371717453, 0.9695261120796204, 0.06787901371717453, 0.9695261120796204, 0.06787901371717453, 0.9695261120796204, 0.06787901371717453, 0.9695261120796204, 0.06787901371717453, 0.9695261120796204, 0.06787901371717453, 0.9695261120796204, 0.06787901371717453, 0.9695261120796204, 0.06787901371717453, 0.9695261120796204, 0.06787901371717453, 0.9695261120796204, 0.06787901371717453, 0.9695261120796204, 0.06787901371717453, 0.9695261120796204, 0.06787901371717453, 0.9695261120796204, 0.06787901371717453, 0.9695261120796204, 0.06787901371717453, 0.9695261120796204, 0.06787901371717453, 0.9695261120796204, 0.06787901371717453, 0.9695261120796204, 0.06787901371717453, 0.9695261120796204, 0.06787901371717453, 0.9695261120796204, 0.06787901371717453, 0.9695261120796204, 0.06787901371717453, 0.9695261120796204, 0.06787901371717453, 0.9695261120796204, 0.06787901371717453, 0.9695261120796204, 0.06787901371717453, 0.9695261120796204, 0.06787901371717453, 0.9695261120796204, 0.06787901371717453, 0.9695261120796204, 0.06787901371717453, 0.9695261120796204, 0.06787901371717453, 0.9695261120796204, 0.06787901371717453, 0.9695261120796204, 0.06787901371717453, 0.9695261120796204, 0.06787901371717453, 0.9695261120796204, 0.06787901371717453, 0.9695261120796204, 0.06787901371717453, 0.9695261120796204, 0.06787901371717453, 0.9695261120796204, 0.06787901371717453, 0.9695261120796204, 0.06787901371717453, 0.9695261120796204, 0.06787901371717453, 0.9695261120796204, 0.06787901371717453, 0.9695261120796204, 0.06787901371717453, 0.9695261120796204, 0.06787901371717453, 0.9695261120796204, 0.06787901371717453, 0.9695261120796204, 0.06787901371717453, 0.9695261120796204, 0.06787901371717453, 0.9695261120796204, 0.06787901371717453, 0.9695261120796204, 0.06787901371717453, 0.9695261120796204, 0.06787901371717453, 0.9695261120796204, 0.06787901371717453, 0.9695261120796204, 0.06787901371717453, 0.9695261120796204, 0.06787901371717453, 0.9695261120796204, 0.06787901371717453, 0.9695261120796204, 0.06787901371717453, 0.9695261120796204, 0.06787901371717453, 0.9695261120796204, 0.06787901371717453, 0.9695261120796204, 0.06787901371717453, 0.9695261120796204, 0.06787901371717453, 0.9695261120796204, 0.06787901371717453, 0.9695261120796204, 0.06787901371717453, 0.9695261120796204, 0.06787901371717453, 0.9695261120796204, 0.06787901371717453, 0.9695261120796204, 0.06787901371717453, 0.9695261120796204, 0.06787901371717453, 0.9695261120796204, 0.06787901371717453, 0.9695261120796204, 0.06787901371717453, 0.9695261120796204, 0.06787901371717453, 0.9695261120796204, 0.06787901371717453, 0.9695261120796204, 0.06787901371717453, 0.9695261120796204]\n"
     ]
    }
   ],
   "source": [
    "accuracy = model.evaluate(X_test, y_test)\n",
    "print((accuracy*100))"
   ]
  },
  {
   "cell_type": "code",
   "execution_count": 22,
   "id": "d0e0e92b",
   "metadata": {},
   "outputs": [],
   "source": [
    "y_pred = model.predict(X_test)\n",
    "\n",
    "y_pred = np.argmax(y_pred, axis=1)"
   ]
  },
  {
   "cell_type": "code",
   "execution_count": 23,
   "id": "1cd1f7d4",
   "metadata": {},
   "outputs": [],
   "source": [
    "y_test_class = np.argmax(y_test, axis=1)"
   ]
  },
  {
   "cell_type": "code",
   "execution_count": 24,
   "id": "9b90292c",
   "metadata": {},
   "outputs": [
    {
     "name": "stdout",
     "output_type": "stream",
     "text": [
      "              precision    recall  f1-score   support\n",
      "\n",
      "           0   0.972362  0.813022  0.885582     98145\n",
      "           1   0.999847  0.999175  0.999511     98145\n",
      "           2   0.999929  0.999878  0.999903     98145\n",
      "           3   0.997145  1.000000  0.998570     98145\n",
      "           4   0.999725  1.000000  0.999862     98145\n",
      "           5   0.843263  0.974935  0.904331     98145\n",
      "           6   0.994395  0.999674  0.997028     98145\n",
      "\n",
      "    accuracy                       0.969526    687015\n",
      "   macro avg   0.972381  0.969526  0.969255    687015\n",
      "weighted avg   0.972381  0.969526  0.969255    687015\n",
      "\n"
     ]
    }
   ],
   "source": [
    "from sklearn.metrics import classification_report\n",
    "\n",
    "print(classification_report(y_test_class, y_pred, digits=6))"
   ]
  },
  {
   "cell_type": "code",
   "execution_count": 25,
   "id": "a74696cc",
   "metadata": {},
   "outputs": [
    {
     "data": {
      "text/plain": [
       "<sklearn.metrics._plot.confusion_matrix.ConfusionMatrixDisplay at 0x26e5d9477c0>"
      ]
     },
     "execution_count": 25,
     "metadata": {},
     "output_type": "execute_result"
    },
    {
     "data": {
      "image/png": "[encoded data removed]",
      "text/plain": [
       "<Figure size 432x288 with 2 Axes>"
      ]
     },
     "metadata": {
      "needs_background": "light"
     },
     "output_type": "display_data"
    },
    {
     "data": {
      "image/png": "[encoded data removed]",
      "text/plain": [
       "<Figure size 432x288 with 2 Axes>"
      ]
     },
     "metadata": {
      "needs_background": "light"
     },
     "output_type": "display_data"
    }
   ],
   "source": [
    "from sklearn.metrics import confusion_matrix, ConfusionMatrixDisplay\n",
    "ConfusionMatrixDisplay.from_predictions(y_test_class, y_pred).plot()"
   ]
  },
  {
   "cell_type": "code",
   "execution_count": 33,
   "id": "b69271ee",
   "metadata": {},
   "outputs": [],
   "source": [
    "model.save('./2018_Smote_CNN.h5')"
   ]
  },
  {
   "cell_type": "markdown",
   "id": "1245d27c",
   "metadata": {},
   "source": [
    "Create a qunatized model for the model."
   ]
  },
  {
   "cell_type": "code",
   "execution_count": 37,
   "id": "8e05f172",
   "metadata": {},
   "outputs": [
    {
     "name": "stderr",
     "output_type": "stream",
     "text": [
      "2022-07-02 12:17:37,256 [5696] WARNING  absl:769: [JupyterRequire] Buffer deduplication procedure will be skipped when flatbuffer library is not properly loaded\n"
     ]
    }
   ],
   "source": [
    "import tensorflow as tf\n",
    "converter = tf.lite.TFLiteConverter.from_keras_model(model)\n",
    "converter.optimizations = [tf.lite.Optimize.DEFAULT]\n",
    "tflite_quant_model_2018 = converter.convert()"
   ]
  },
  {
   "cell_type": "code",
   "execution_count": 38,
   "id": "d2faf709",
   "metadata": {},
   "outputs": [],
   "source": [
    "with open('tflite_2018_model.tflite', 'wb') as p:\n",
    "    p.write(tflite_quant_model_2018)"
   ]
  },
  {
   "cell_type": "code",
   "execution_count": 39,
   "id": "e8c2156f",
   "metadata": {},
   "outputs": [
    {
     "name": "stdout",
     "output_type": "stream",
     "text": [
      "Model: \"sequential_3\"\n",
      "_________________________________________________________________\n",
      " Layer (type)                Output Shape              Param #   \n",
      "=================================================================\n",
      " conv1d_6 (Conv1D)           (None, 76, 64)            256       \n",
      "                                                                 \n",
      " conv1d_7 (Conv1D)           (None, 74, 64)            12352     \n",
      "                                                                 \n",
      " dropout_3 (Dropout)         (None, 74, 64)            0         \n",
      "                                                                 \n",
      " max_pooling1d_3 (MaxPooling  (None, 37, 64)           0         \n",
      " 1D)                                                             \n",
      "                                                                 \n",
      " flatten_3 (Flatten)         (None, 2368)              0         \n",
      "                                                                 \n",
      " dense_6 (Dense)             (None, 100)               236900    \n",
      "                                                                 \n",
      " dense_7 (Dense)             (None, 7)                 707       \n",
      "                                                                 \n",
      "=================================================================\n",
      "Total params: 250,215\n",
      "Trainable params: 250,215\n",
      "Non-trainable params: 0\n",
      "_________________________________________________________________\n"
     ]
    }
   ],
   "source": [
    "model.summary()"
   ]
  },
  {
   "cell_type": "code",
   "execution_count": 42,
   "id": "070f7459",
   "metadata": {},
   "outputs": [
    {
     "data": {
      "image/png": "[encoded data removed]",
      "text/plain": [
       "<Figure size 432x288 with 2 Axes>"
      ]
     },
     "metadata": {
      "needs_background": "light"
     },
     "output_type": "display_data"
    },
    {
     "data": {
      "text/plain": [
       "<Figure size 432x288 with 0 Axes>"
      ]
     },
     "metadata": {},
     "output_type": "display_data"
    }
   ],
   "source": [
    "import seaborn as sns\n",
    "import matplotlib.pyplot as plt\n",
    "cm = confusion_matrix(y_test_class, y_pred)\n",
    "sns.heatmap(cm, annot=True, cmap='Blues', fmt='d')\n",
    "plt.show()\n",
    "plt.savefig('./confusion_matrix_2018.png')"
   ]
  },
  {
   "cell_type": "code",
   "execution_count": null,
   "id": "c3a1e262",
   "metadata": {},
   "outputs": [],
   "source": []
  }
 ],
 "metadata": {
  "kernelspec": {
   "display_name": "Python 3 (ipykernel)",
   "language": "python",
   "name": "python3"
  },
  "language_info": {
   "codemirror_mode": {
    "name": "ipython",
    "version": 3
   },
   "file_extension": ".py",
   "mimetype": "text/x-python",
   "name": "python",
   "nbconvert_exporter": "python",
   "pygments_lexer": "ipython3",
   "version": "3.9.7"
  }
 },
 "nbformat": 4,
 "nbformat_minor": 5
}
